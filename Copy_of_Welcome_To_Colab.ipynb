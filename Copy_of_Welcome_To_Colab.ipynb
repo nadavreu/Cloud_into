{
  "cells": [
    {
      "cell_type": "markdown",
      "metadata": {
        "id": "view-in-github",
        "colab_type": "text"
      },
      "source": [
        "<a href=\"https://colab.research.google.com/github/nadavreu/Cloud_into/blob/main/Copy_of_Welcome_To_Colab.ipynb\" target=\"_parent\"><img src=\"https://colab.research.google.com/assets/colab-badge.svg\" alt=\"Open In Colab\"/></a>"
      ]
    },
    {
      "cell_type": "code",
      "source": [
        "from firebase import firebase\n",
        "FBconn=firebase.FirebaseApplication('https://tutorial-31d3d-default-rtdb.firebaseio.com',None)\n",
        "result=FBconn.get('/myTest',None)\n",
        "print(result)"
      ],
      "metadata": {
        "id": "hS3dNADBOzcs"
      },
      "execution_count": null,
      "outputs": []
    },
    {
      "cell_type": "code",
      "source": [
        "from firebase import firebase\n",
        "FBconn=firebase.FirebaseApplication('https://tutorial-31d3d-default-rtdb.firebaseio.com',None)\n",
        "while True:\n",
        "  temperature = int (input (\"what is thie temperature?\"))\n",
        "  data_to_upload={\n",
        "      'Temp': temperature\n",
        "      }\n",
        "  result=FBconn.post('/myTest',data_to_upload)\n",
        "  print(result)"
      ],
      "metadata": {
        "id": "J2zvZUT4Qm1D"
      },
      "execution_count": null,
      "outputs": []
    }
  ],
  "metadata": {
    "colab": {
      "toc_visible": true,
      "provenance": [],
      "include_colab_link": true
    },
    "kernelspec": {
      "display_name": "Python 3",
      "name": "python3"
    }
  },
  "nbformat": 4,
  "nbformat_minor": 0
}