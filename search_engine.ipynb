{
  "nbformat": 4,
  "nbformat_minor": 0,
  "metadata": {
    "colab": {
      "provenance": [],
      "authorship_tag": "ABX9TyM9V205RHwuinRxBPLVhQKd",
      "include_colab_link": true
    },
    "kernelspec": {
      "name": "python3",
      "display_name": "Python 3"
    },
    "language_info": {
      "name": "python"
    }
  },
  "cells": [
    {
      "cell_type": "markdown",
      "metadata": {
        "id": "view-in-github",
        "colab_type": "text"
      },
      "source": [
        "<a href=\"https://colab.research.google.com/github/nadavreu/Cloud_into/blob/main/search_engine.ipynb\" target=\"_parent\"><img src=\"https://colab.research.google.com/assets/colab-badge.svg\" alt=\"Open In Colab\"/></a>"
      ]
    },
    {
      "cell_type": "code",
      "execution_count": 6,
      "metadata": {
        "colab": {
          "base_uri": "https://localhost:8080/"
        },
        "id": "LqaKxSyAVIt9",
        "outputId": "5837c9f1-ef67-4b2e-dbcb-8c19d9ffec19"
      },
      "outputs": [
        {
          "output_type": "stream",
          "name": "stdout",
          "text": [
            "{'industri': 8}\n",
            "{'braud': 13}\n",
            "{'galile': 15}\n"
          ]
        }
      ],
      "source": [
        "from os import remove\n",
        "import requests\n",
        "from bs4 import BeautifulSoup\n",
        "import re\n",
        "from nltk.stem import PorterStemmer\n",
        "\n",
        "def fetch_page(url) :\n",
        "  r=requests.get(url)\n",
        "  if r.status_code==200 :\n",
        "    return BeautifulSoup(r.text,'html.parser')\n",
        "  else :\n",
        "    return None\n",
        "\n",
        "def index_words(soup) :\n",
        "  index={}\n",
        "  words=re.findall(r'\\w+',soup.get_text().lower())\n",
        "  for word in words :\n",
        "    word=word.lower()\n",
        "    if word in index :\n",
        "      index[word]+=1\n",
        "    else :\n",
        "      index[word]=1\n",
        "  return index\n",
        "\n",
        "def remove_stop_words(index) :\n",
        "  stop_words={'a','an','the','and','or','in','on','at'}\n",
        "  for word in stop_words :\n",
        "    if word in index :\n",
        "      del index[word]\n",
        "  return index\n",
        "\n",
        "def apply_stemming(index) :\n",
        "  stemmer=PorterStemmer()\n",
        "  stemmed_index={}\n",
        "  for word,count in index.items() :\n",
        "    stemmed_word=stemmer.stem(word)\n",
        "    if stemmed_word in stemmed_index :\n",
        "      stemmed_index[stemmed_word]+=count\n",
        "    else :\n",
        "      stemmed_index[stemmed_word]=count\n",
        "  return stemmed_index\n",
        "\n",
        "def search(index,query):\n",
        "  stemmer=PorterStemmer()\n",
        "  query_words=re.findall(r'\\w+',query.lower())\n",
        "  results={}\n",
        "  for word in query_words :\n",
        "    word=stemmer.stem(word)\n",
        "    if word in index :\n",
        "     results[word]=index[word]\n",
        "    return results\n",
        "\n",
        "def search_engine(url,query) :\n",
        "  soup=fetch_page(url)\n",
        "  if soup==None :\n",
        "    return None\n",
        "  index=index_words(soup)\n",
        "  index=remove_stop_words(index)\n",
        "  index=apply_stemming(index)\n",
        "  result=search(index,query)\n",
        "  return result\n",
        "\n",
        "url=\"https://w3.braude.ac.il/?lang=en\"\n",
        "query1=\"industry\"\n",
        "query2=\"braude college\"\n",
        "query3=\"galilee center\"\n",
        "results1=search_engine(url,query1)\n",
        "results2=search_engine(url,query2)\n",
        "results3=search_engine(url,query3)\n",
        "print(results1)\n",
        "print(results2)\n",
        "print(results3)\n"
      ]
    }
  ]
}