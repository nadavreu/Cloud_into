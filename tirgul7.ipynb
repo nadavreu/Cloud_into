{
  "cells": [
    {
      "cell_type": "markdown",
      "metadata": {
        "id": "view-in-github",
        "colab_type": "text"
      },
      "source": [
        "<a href=\"https://colab.research.google.com/github/nadavreu/Cloud_into/blob/main/tirgul7.ipynb\" target=\"_parent\"><img src=\"https://colab.research.google.com/assets/colab-badge.svg\" alt=\"Open In Colab\"/></a>"
      ]
    },
    {
      "cell_type": "code",
      "execution_count": null,
      "metadata": {
        "colab": {
          "base_uri": "https://localhost:8080/"
        },
        "id": "GafCVY1ljzro",
        "outputId": "dd5c871e-48f5-4289-fbdb-b20a35ea99d2"
      },
      "outputs": [
        {
          "name": "stdout",
          "output_type": "stream",
          "text": [
            "Requirement already satisfied: nltk in /usr/local/lib/python3.10/dist-packages (3.8.1)\n",
            "Requirement already satisfied: click in /usr/local/lib/python3.10/dist-packages (from nltk) (8.1.7)\n",
            "Requirement already satisfied: joblib in /usr/local/lib/python3.10/dist-packages (from nltk) (1.4.2)\n",
            "Requirement already satisfied: regex>=2021.8.3 in /usr/local/lib/python3.10/dist-packages (from nltk) (2024.5.15)\n",
            "Requirement already satisfied: tqdm in /usr/local/lib/python3.10/dist-packages (from nltk) (4.66.4)\n"
          ]
        }
      ],
      "source": [
        "!pip install nltk\n",
        "\n",
        "import nltk\n",
        "from nltk.chat.util import Chat, reflections\n"
      ]
    },
    {
      "cell_type": "code",
      "execution_count": null,
      "metadata": {
        "id": "qUEerO9znPzf"
      },
      "outputs": [],
      "source": [
        "cloud_explanation = \"\"\"Private Cloud: A private cloud is a cloud computing environment that is dedicated solely to one organization.\n",
        "It is usually managed either by the organization itself or by a third-party service provider. The infrastructure and services are not shared\n",
        "with other organizations, offering greater control, security, and customization options. Private clouds are typically used by large enterprises\n",
        "or organizations with specific compliance or security requirements.\n",
        "Public Cloud: A public cloud is a cloud computing environment that is hosted and managed by a third-party service provider and made available\n",
        "to multiple organizations or individuals over the internet. The infrastructure and resources are shared among multiple users,\n",
        " offering scalability, flexibility, and cost-effectiveness. Public clouds are accessible to anyone who wants to use them and are often used\n",
        " for general-purpose computing needs such as web hosting, development, and testing.\n",
        "Hybrid Cloud: A hybrid cloud is a computing environment that combines elements of both private and public clouds. It allows organizations\n",
        " to leverage the benefits of both environments by integrating on-premises infrastructure with public cloud resources. This integration enables\n",
        " data and applications to be dynamically moved between the two environments based on changing workload demands, security requirements, and cost\n",
        " considerations. Hybrid clouds offer greater flexibility, scalability, and customization options compared to using either private or public clouds alone.\n",
        " They are commonly used by organizations that want to retain control over sensitive data while taking advantage of the scalability and cost-effectiveness of\n",
        " public cloud services.\"\"\""
      ]
    },
    {
      "cell_type": "code",
      "execution_count": null,
      "metadata": {
        "id": "h7WzAXmgRllk"
      },
      "outputs": [],
      "source": [
        "\n",
        "# Download necessary NLTK data\n",
        "nltk.download('punkt')\n",
        "nltk.download('wordnet')\n",
        "\n",
        "\n",
        "# Define some patterns and responses\n",
        "patterns = [\n",
        "    (r'hi|hello|hey', ['Hello!', 'Hi there!', 'Hey!']),\n",
        "    (r'how are you?', ['I\\'m good, thank you!', 'I\\'m doing well, thanks for asking.']),\n",
        "    (r'what is your name?', ['You can call me ChatGPT.', 'I go by the name ChatGPT.']),\n",
        "    (r'my name is (.*)', ['glad to meet you.', 'nice to meet you.']),\n",
        "    (r'thank you (.*)', ['welcome!.', 'happy to help!.']),\n",
        "    (r'What is the purpose of the system ?', ['I can show you interesting statistics About your employees']),\n",
        "    (r'what is cloud|cloud', ['AWS and Azure are cloud computing platforms offering scalable resources and services over the internet. They provide solutions for computing power, storage, and various other IT needs on-demand.']),\n",
        "    (r'what is onshape|onshape|on shape', ['Onshape is a cloud-based CAD platform for product design and development. Learn more here: https://www.onshape.com/']),\n",
        "\n",
        "    # You can add more patterns and responses here\n",
        "]\n",
        "\n",
        "# Create a chatbot\n",
        "chatbot = Chat(patterns, reflections)\n",
        "\n",
        "# Start the conversation\n",
        "print(\"Hello! I'm ChatGPT. How can I help you today?\")\n",
        "while True:\n",
        "    user_input = input(\"You: \")\n",
        "\n",
        "    response = chatbot.respond(user_input)\n",
        "    print(\"ChatGPT:\", response)\n",
        "    if user_input.lower() == 'exit' or user_input.lower() == 'bye':\n",
        "        break\n",
        "\n",
        "\n",
        "\n",
        "\n"
      ]
    },
    {
      "cell_type": "code",
      "execution_count": null,
      "metadata": {
        "id": "_bboGV8qoyXC"
      },
      "outputs": [],
      "source": [
        "from google.colab import drive\n",
        "drive.mount('/content/drive')"
      ]
    },
    {
      "cell_type": "code",
      "execution_count": null,
      "metadata": {
        "id": "TGPjDdKc0l13"
      },
      "outputs": [],
      "source": [
        "pip install v-diffusion-pytorch"
      ]
    },
    {
      "cell_type": "code",
      "execution_count": null,
      "metadata": {
        "id": "dmFAvSgzZAaM"
      },
      "outputs": [],
      "source": []
    }
  ],
  "metadata": {
    "colab": {
      "provenance": [],
      "include_colab_link": true
    },
    "kernelspec": {
      "display_name": "Python 3",
      "name": "python3"
    },
    "language_info": {
      "name": "python"
    }
  },
  "nbformat": 4,
  "nbformat_minor": 0
}